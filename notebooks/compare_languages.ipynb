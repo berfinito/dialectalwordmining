{
 "cells": [
  {
   "cell_type": "code",
   "execution_count": null,
   "id": "411148b1",
   "metadata": {},
   "outputs": [],
   "source": [
    "#✅ Cell 1: Setup\n",
    "import pandas as pd\n",
    "import matplotlib.pyplot as plt\n",
    "import os\n"
   ]
  },
  {
   "cell_type": "code",
   "execution_count": null,
   "id": "1a968188",
   "metadata": {},
   "outputs": [
    {
     "data": {
      "text/html": [
       "<div>\n",
       "<style scoped>\n",
       "    .dataframe tbody tr th:only-of-type {\n",
       "        vertical-align: middle;\n",
       "    }\n",
       "\n",
       "    .dataframe tbody tr th {\n",
       "        vertical-align: top;\n",
       "    }\n",
       "\n",
       "    .dataframe thead th {\n",
       "        text-align: right;\n",
       "    }\n",
       "</style>\n",
       "<table border=\"1\" class=\"dataframe\">\n",
       "  <thead>\n",
       "    <tr style=\"text-align: right;\">\n",
       "      <th></th>\n",
       "      <th>Language</th>\n",
       "      <th>Whisper WER</th>\n",
       "      <th>Wav2Vec2 WER</th>\n",
       "      <th>Samples (GT)</th>\n",
       "      <th>Unmatched (Whisper)</th>\n",
       "    </tr>\n",
       "  </thead>\n",
       "  <tbody>\n",
       "    <tr>\n",
       "      <th>0</th>\n",
       "      <td>Turkish</td>\n",
       "      <td>0.276</td>\n",
       "      <td>0.419</td>\n",
       "      <td>11352</td>\n",
       "      <td>7743</td>\n",
       "    </tr>\n",
       "    <tr>\n",
       "      <th>1</th>\n",
       "      <td>Kurmanci</td>\n",
       "      <td>1.342</td>\n",
       "      <td>NaN</td>\n",
       "      <td>3970</td>\n",
       "      <td>3967</td>\n",
       "    </tr>\n",
       "    <tr>\n",
       "      <th>2</th>\n",
       "      <td>Zazaki</td>\n",
       "      <td>1.048</td>\n",
       "      <td>NaN</td>\n",
       "      <td>463</td>\n",
       "      <td>461</td>\n",
       "    </tr>\n",
       "  </tbody>\n",
       "</table>\n",
       "</div>"
      ],
      "text/plain": [
       "   Language  Whisper WER  Wav2Vec2 WER  Samples (GT)  Unmatched (Whisper)\n",
       "0   Turkish        0.276         0.419         11352                 7743\n",
       "1  Kurmanci        1.342           NaN          3970                 3967\n",
       "2    Zazaki        1.048           NaN           463                  461"
      ]
     },
     "execution_count": 2,
     "metadata": {},
     "output_type": "execute_result"
    }
   ],
   "source": [
    "#✅ Cell 2: Define WER & Sample Stats Manually\n",
    "wer_summary = pd.DataFrame({\n",
    "    \"Language\": [\"Turkish\", \"Kurmanci\", \"Zazaki\"],\n",
    "    \"Whisper WER\": [0.276, 1.342, 1.048],\n",
    "    \"Wav2Vec2 WER\": [0.419, None, None],\n",
    "    \"Samples (GT)\": [11352, 3970, 463],\n",
    "    \"Unmatched (Whisper)\": [7743, 3967, 461]\n",
    "})\n",
    "wer_summary\n"
   ]
  },
  {
   "cell_type": "code",
   "execution_count": null,
   "id": "78bf8e0f",
   "metadata": {},
   "outputs": [
    {
     "data": {
      "image/png": "[encoded data removed]",
      "text/plain": [
       "<Figure size 700x400 with 1 Axes>"
      ]
     },
     "metadata": {},
     "output_type": "display_data"
    }
   ],
   "source": [
    "#✅ Cell 3: Bar Plot – Whisper WER\n",
    "plt.figure(figsize=(7, 4))\n",
    "plt.bar(wer_summary[\"Language\"], wer_summary[\"Whisper WER\"], color=\"skyblue\")\n",
    "plt.title(\"Whisper WER by Language\")\n",
    "plt.ylabel(\"WER\")\n",
    "plt.grid(True)\n",
    "plt.tight_layout()\n",
    "plt.show()\n"
   ]
  },
  {
   "cell_type": "code",
   "execution_count": null,
   "id": "62d672c1",
   "metadata": {},
   "outputs": [
    {
     "data": {
      "text/plain": [
       "{'Turkish': {'GT': ['bir',\n",
       "   'bu',\n",
       "   've',\n",
       "   'ne',\n",
       "   'de',\n",
       "   'tr',\n",
       "   '2',\n",
       "   'da',\n",
       "   '0',\n",
       "   'male_masculine'],\n",
       "  'Whisper': ['bir',\n",
       "   'bu',\n",
       "   've',\n",
       "   'ne',\n",
       "   'de',\n",
       "   'da',\n",
       "   'çok',\n",
       "   'daha',\n",
       "   'için',\n",
       "   'ben']},\n",
       " 'Kurmanci': {'GT': ['ji',\n",
       "   'li',\n",
       "   'bi',\n",
       "   'xwe',\n",
       "   'û',\n",
       "   'min',\n",
       "   'ez',\n",
       "   'e',\n",
       "   'de',\n",
       "   'di'],\n",
       "  'Whisper': ['bir',\n",
       "   've',\n",
       "   'bu',\n",
       "   'o',\n",
       "   'da',\n",
       "   'kere',\n",
       "   'şey',\n",
       "   'zaman',\n",
       "   'daha',\n",
       "   'de']},\n",
       " 'Zazaki': {'GT': ['ra', 'de', 'xo', 'ez', 'ma', 'to', 'mı', 'ke', 'u', 'ro'],\n",
       "  'Whisper': ['bu', 'o', 've', 'de', 'ne', 'bir', 'ki', 'ez', 'da', 'mi']}}"
      ]
     },
     "execution_count": 4,
     "metadata": {},
     "output_type": "execute_result"
    }
   ],
   "source": [
    "#✅ Cell 4: Load Top Words from Word Mining\n",
    "def load_top_words(path: Path, column: str, top_n: int = 10):\n",
    "    df = pd.read_csv(path)\n",
    "    return df[column].head(top_n).tolist()\n",
    "\n",
    "PROJECT_ROOT = Path(__file__).resolve().parents[1] if \"__file__\" in globals() else Path.cwd().parents[1]\n",
    "FREQ_ROOT = PROJECT_ROOT / \"outputs\" / \"frequencies\"\n",
    "\n",
    "lang_paths = {\n",
    "    \"Turkish\": FREQ_ROOT / \"turkish\",\n",
    "    \"Kurmanci\": FREQ_ROOT / \"kurmanci\",\n",
    "    \"Zazaki\": FREQ_ROOT / \"zazaki\",\n",
    "}\n",
    "\n",
    "top_words = {}\n",
    "for lang, path in lang_paths.items():\n",
    "    gt_words = load_top_words(path / \"gt_word_freq.csv\", \"word\")\n",
    "    whisper_words = load_top_words(path / \"whisper_word_freq.csv\", \"word\")\n",
    "    top_words[lang] = {\"GT\": gt_words, \"Whisper\": whisper_words}\n",
    "\n",
    "top_words\n"
   ]
  },
  {
   "cell_type": "code",
   "execution_count": null,
   "id": "019861c2",
   "metadata": {},
   "outputs": [
    {
     "name": "stdout",
     "output_type": "stream",
     "text": [
      "\n",
      "🌍 Turkish\n",
      "Ground Truth: bir, bu, ve, ne, de, tr, 2, da, 0, male_masculine\n",
      "Whisper: bir, bu, ve, ne, de, da, çok, daha, için, ben\n",
      "\n",
      "🌍 Kurmanci\n",
      "Ground Truth: ji, li, bi, xwe, û, min, ez, e, de, di\n",
      "Whisper: bir, ve, bu, o, da, kere, şey, zaman, daha, de\n",
      "\n",
      "🌍 Zazaki\n",
      "Ground Truth: ra, de, xo, ez, ma, to, mı, ke, u, ro\n",
      "Whisper: bu, o, ve, de, ne, bir, ki, ez, da, mi\n"
     ]
    }
   ],
   "source": [
    "#✅ Cell 5: Visual Side-by-Side Top Words\n",
    "for lang in top_words:\n",
    "    gt = top_words[lang][\"GT\"]\n",
    "    pred = top_words[lang][\"Whisper\"]\n",
    "    \n",
    "    print(f\"\\n🌍 {lang}\")\n",
    "    print(\"Ground Truth:\", \", \".join(gt))\n",
    "    print(\"Whisper:\", \", \".join(pred))\n"
   ]
  },
  {
   "cell_type": "code",
   "execution_count": null,
   "id": "b7f21f03",
   "metadata": {},
   "outputs": [
    {
     "name": "stdout",
     "output_type": "stream",
     "text": [
      "Turkish GT vs Whisper overlap: 0.60\n",
      "Kurmanci GT vs Whisper overlap: 0.10\n",
      "Zazaki GT vs Whisper overlap: 0.20\n"
     ]
    }
   ],
   "source": [
    "#✅ Cell 6: Token Overlap Score\n",
    "def token_overlap(list1, list2):\n",
    "    return len(set(list1) & set(list2)) / len(set(list1)) if list1 else 0\n",
    "\n",
    "for lang in top_words:\n",
    "    score = token_overlap(top_words[lang][\"GT\"], top_words[lang][\"Whisper\"])\n",
    "    print(f\"{lang} GT vs Whisper overlap: {score:.2f}\")\n"
   ]
  }
 ],
 "metadata": {
  "kernelspec": {
   "display_name": "dialect_env",
   "language": "python",
   "name": "python3"
  },
  "language_info": {
   "codemirror_mode": {
    "name": "ipython",
    "version": 3
   },
   "file_extension": ".py",
   "mimetype": "text/x-python",
   "name": "python",
   "nbconvert_exporter": "python",
   "pygments_lexer": "ipython3",
   "version": "3.10.16"
  }
 },
 "nbformat": 4,
 "nbformat_minor": 5
}
