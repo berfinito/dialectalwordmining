{
 "cells": [
  {
   "cell_type": "code",
   "execution_count": 1,
   "id": "ec516b7b",
   "metadata": {},
   "outputs": [
    {
     "name": "stderr",
     "output_type": "stream",
     "text": [
      "c:\\Users\\berfi\\anaconda3\\envs\\dialect_env\\lib\\site-packages\\tqdm\\auto.py:21: TqdmWarning: IProgress not found. Please update jupyter and ipywidgets. See https://ipywidgets.readthedocs.io/en/stable/user_install.html\n",
      "  from .autonotebook import tqdm as notebook_tqdm\n"
     ]
    }
   ],
   "source": [
    "# ✅ Cell 1: Setup & Imports\n",
    "import os\n",
    "import re\n",
    "import torch\n",
    "import pandas as pd\n",
    "import librosa\n",
    "import torchaudio\n",
    "import matplotlib.pyplot as plt\n",
    "from tqdm import tqdm\n",
    "from jiwer import wer\n",
    "from pathlib import Path\n",
    "\n",
    "from transformers import (\n",
    "    WhisperProcessor, WhisperForConditionalGeneration,\n",
    "    Wav2Vec2Processor, Wav2Vec2ForCTC\n",
    ")\n",
    "\n",
    "# Setup root paths\n",
    "PROJECT_ROOT = Path(__file__).resolve().parents[1] if \"__file__\" in globals() else Path.cwd().parents[1]\n",
    "DATA_DIR = PROJECT_ROOT / \"data\" / \"turkish\"\n",
    "MODELS_DIR = PROJECT_ROOT / \"models\"\n",
    "OUTPUTS_DIR = PROJECT_ROOT / \"outputs\" / \"transcriptions\"\n",
    "OUTPUTS_DIR.mkdir(parents=True, exist_ok=True)\n"
   ]
  },
  {
   "cell_type": "code",
   "execution_count": 2,
   "id": "c0daabcd",
   "metadata": {},
   "outputs": [
    {
     "name": "stderr",
     "output_type": "stream",
     "text": [
      "c:\\Users\\berfi\\anaconda3\\envs\\dialect_env\\lib\\site-packages\\transformers\\configuration_utils.py:311: UserWarning: Passing `gradient_checkpointing` to a config initialization is deprecated and will be removed in v5 Transformers. Using `model.gradient_checkpointing_enable()` instead, or if you are using the `Trainer` API, pass `gradient_checkpointing=True` in your `TrainingArguments`.\n",
      "  warnings.warn(\n"
     ]
    }
   ],
   "source": [
    "# ✅ Cell 2: Load Models\n",
    "whisper_model = WhisperForConditionalGeneration.from_pretrained(\n",
    "    \"openai/whisper-small\", cache_dir=str(MODELS_DIR / \"whisper-small\")\n",
    ").to(\"cuda\")\n",
    "\n",
    "whisper_processor = WhisperProcessor.from_pretrained(\n",
    "    \"openai/whisper-small\", cache_dir=str(MODELS_DIR / \"whisper-small\")\n",
    ")\n",
    "\n",
    "w2v2_tr_model = Wav2Vec2ForCTC.from_pretrained(\n",
    "    \"ceyda/wav2vec2-large-xlsr-53-turkish\", cache_dir=str(MODELS_DIR / \"wav2vec2-turkish\")\n",
    ").to(\"cuda\")\n",
    "\n",
    "w2v2_tr_processor = Wav2Vec2Processor.from_pretrained(\n",
    "    \"ceyda/wav2vec2-large-xlsr-53-turkish\", cache_dir=str(MODELS_DIR / \"wav2vec2-turkish\")\n",
    ")\n"
   ]
  },
  {
   "cell_type": "code",
   "execution_count": 3,
   "id": "7d33262d",
   "metadata": {},
   "outputs": [
    {
     "name": "stdout",
     "output_type": "stream",
     "text": [
      "✅ Loaded 11352 samples.\n"
     ]
    }
   ],
   "source": [
    "# ✅ Cell 3: Load Turkish Dataset\n",
    "tsv_path = DATA_DIR / \"dev.tsv\"\n",
    "audio_folder = DATA_DIR / \"clips\"\n",
    "\n",
    "df = pd.read_csv(tsv_path, sep=\"\\t\")[[\"path\", \"sentence\"]]\n",
    "print(f\"✅ Loaded {len(df)} samples.\")\n"
   ]
  },
  {
   "cell_type": "code",
   "execution_count": 4,
   "id": "37aa55ff",
   "metadata": {},
   "outputs": [],
   "source": [
    "# ✅ Cell 4: Transcription Functions\n",
    "def transcribe_whisper(filepath):\n",
    "    try:\n",
    "        audio, sr = torchaudio.load(filepath)\n",
    "        audio = torchaudio.functional.resample(audio, sr, 16000)\n",
    "        inputs = whisper_processor(audio.squeeze().numpy(), sampling_rate=16000, return_tensors=\"pt\").input_features.to(\"cuda\")\n",
    "        decoder_ids = whisper_processor.get_decoder_prompt_ids(language=\"tr\", task=\"transcribe\")\n",
    "        predicted_ids = whisper_model.generate(inputs, forced_decoder_ids=decoder_ids)\n",
    "        return whisper_processor.batch_decode(predicted_ids, skip_special_tokens=True)[0].strip()\n",
    "    except Exception as e:\n",
    "        return f\"[ERROR] {str(e)}\"\n",
    "\n",
    "def transcribe_wav2vec2(filepath):\n",
    "    try:\n",
    "        speech, _ = librosa.load(filepath, sr=16000)\n",
    "        inputs = w2v2_tr_processor(speech, sampling_rate=16000, return_tensors=\"pt\", padding=True)\n",
    "        with torch.no_grad():\n",
    "            logits = w2v2_tr_model(**inputs.to(\"cuda\")).logits\n",
    "        predicted_ids = torch.argmax(logits, dim=-1)\n",
    "        return w2v2_tr_processor.batch_decode(predicted_ids)[0].strip().lower()\n",
    "    except Exception as e:\n",
    "        return f\"[ERROR] {str(e)}\"\n"
   ]
  },
  {
   "cell_type": "code",
   "execution_count": 5,
   "id": "2513f67b",
   "metadata": {},
   "outputs": [
    {
     "name": "stderr",
     "output_type": "stream",
     "text": [
      "  0%|          | 0/11352 [00:00<?, ?it/s]The attention mask is not set and cannot be inferred from input because pad token is same as eos token. As a consequence, you may observe unexpected behavior. Please pass your input's `attention_mask` to obtain reliable results.\n",
      "100%|██████████| 11352/11352 [39:52<00:00,  4.75it/s] "
     ]
    },
    {
     "name": "stdout",
     "output_type": "stream",
     "text": [
      "✅ Transcriptions saved to: c:\\Users\\berfi\\Documents\\GitHub\\dialectalwordmining\\outputs\\transcriptions\n"
     ]
    },
    {
     "name": "stderr",
     "output_type": "stream",
     "text": [
      "\n"
     ]
    }
   ],
   "source": [
    "# ✅ Cell 5: Transcribe All Samples\n",
    "results = []\n",
    "for _, row in tqdm(df.iterrows(), total=len(df)):\n",
    "    clip_path = audio_folder / row[\"path\"]\n",
    "    if not clip_path.exists():\n",
    "        continue\n",
    "\n",
    "    whisper_pred = transcribe_whisper(str(clip_path))\n",
    "    w2v2_pred = transcribe_wav2vec2(str(clip_path))\n",
    "\n",
    "    results.append({\n",
    "        \"filename\": row[\"path\"],\n",
    "        \"ground_truth\": row[\"sentence\"],\n",
    "        \"whisper_pred\": whisper_pred,\n",
    "        \"w2v2_pred\": w2v2_pred\n",
    "    })\n",
    "\n",
    "df_out = pd.DataFrame(results)\n",
    "df_out.to_csv(OUTPUTS_DIR / \"turkish_transcription_comparison.csv\", index=False)\n",
    "print(\"✅ Transcriptions saved to:\", OUTPUTS_DIR)\n"
   ]
  },
  {
   "cell_type": "code",
   "execution_count": 9,
   "id": "ea9c8019",
   "metadata": {},
   "outputs": [
    {
     "name": "stdout",
     "output_type": "stream",
     "text": [
      "🧹 Cleaned 11352 usable transcriptions.\n",
      "📊 Normalized Whisper-small WER: 0.276\n",
      "📊 Normalized Wav2Vec2-Turkish WER: 0.419\n"
     ]
    }
   ],
   "source": [
    "# ✅ Cell 6: Filtering and Normalization\n",
    "df_out_clean = df_out[\n",
    "    ~df_out[\"whisper_pred\"].str.startswith(\"[ERROR]\") &\n",
    "    ~df_out[\"w2v2_pred\"].str.startswith(\"[ERROR]\")\n",
    "].copy()\n",
    "print(f\"🧹 Cleaned {len(df_out_clean)} usable transcriptions.\")\n",
    "\n",
    "def normalize_text(text):\n",
    "    text = text.lower()\n",
    "    text = re.sub(r\"[^\\w\\sçğıöşü]\", \"\", text)\n",
    "    text = re.sub(r\"\\s+\", \" \", text)\n",
    "    return text.strip()\n",
    "\n",
    "df_out_clean[\"gt_norm\"] = df_out_clean[\"ground_truth\"].apply(normalize_text)\n",
    "df_out_clean[\"whisper_norm\"] = df_out_clean[\"whisper_pred\"].apply(normalize_text)\n",
    "df_out_clean[\"w2v2_norm\"] = df_out_clean[\"w2v2_pred\"].apply(normalize_text)\n",
    "\n",
    "whisper_wer = wer(df_out_clean[\"gt_norm\"].tolist(), df_out_clean[\"whisper_norm\"].tolist())\n",
    "w2v2_wer = wer(df_out_clean[\"gt_norm\"].tolist(), df_out_clean[\"w2v2_norm\"].tolist())\n",
    "\n",
    "print(f\"📊 Normalized Whisper-small WER: {whisper_wer:.3f}\")\n",
    "print(f\"📊 Normalized Wav2Vec2-Turkish WER: {w2v2_wer:.3f}\")\n"
   ]
  },
  {
   "cell_type": "code",
   "execution_count": 13,
   "id": "b63a1509",
   "metadata": {},
   "outputs": [
    {
     "name": "stdout",
     "output_type": "stream",
     "text": [
      "🔍 Saved 7743 unmatched records.\n"
     ]
    }
   ],
   "source": [
    "# ✅ Cell 7: Line-Level WERs + Save Unmatched\n",
    "df_out_clean[\"whisper_line_wer\"] = df_out_clean.apply(\n",
    "    lambda row: wer(row[\"gt_norm\"], row[\"whisper_norm\"]), axis=1\n",
    ")\n",
    "df_out_clean[\"w2v2_line_wer\"] = df_out_clean.apply(\n",
    "    lambda row: wer(row[\"gt_norm\"], row[\"w2v2_norm\"]), axis=1\n",
    ")\n",
    "\n",
    "df_unmatched = df_out_clean[\n",
    "    df_out_clean[\"gt_norm\"] != df_out_clean[\"w2v2_norm\"]\n",
    "]\n",
    "\n",
    "df_unmatched.to_csv(OUTPUTS_DIR / \"unmatched_records_turkish.csv\", index=False)\n",
    "print(f\"🔍 Saved {len(df_unmatched)} unmatched records.\")\n"
   ]
  },
  {
   "cell_type": "code",
   "execution_count": 14,
   "id": "c298253a",
   "metadata": {},
   "outputs": [
    {
     "data": {
      "image/png": "[encoded data removed]",
      "text/plain": [
       "<Figure size 1000x500 with 1 Axes>"
      ]
     },
     "metadata": {},
     "output_type": "display_data"
    }
   ],
   "source": [
    "# ✅ Cell 8: Plot WER Distribution\n",
    "plt.figure(figsize=(10, 5))\n",
    "plt.hist(df_out_clean[\"whisper_line_wer\"], bins=50, alpha=0.6, label=\"Whisper-small\")\n",
    "plt.hist(df_out_clean[\"w2v2_line_wer\"], bins=50, alpha=0.6, label=\"Wav2Vec2-Turkish\")\n",
    "plt.xlabel(\"Line-level WER (Normalized)\")\n",
    "plt.ylabel(\"Number of Samples\")\n",
    "plt.title(\"WER Distribution per Model (Normalized)\")\n",
    "plt.legend()\n",
    "plt.grid(True)\n",
    "plt.tight_layout()\n",
    "plt.show()\n"
   ]
  }
 ],
 "metadata": {
  "kernelspec": {
   "display_name": "dialect_env",
   "language": "python",
   "name": "python3"
  },
  "language_info": {
   "codemirror_mode": {
    "name": "ipython",
    "version": 3
   },
   "file_extension": ".py",
   "mimetype": "text/x-python",
   "name": "python",
   "nbconvert_exporter": "python",
   "pygments_lexer": "ipython3",
   "version": "3.10.16"
  }
 },
 "nbformat": 4,
 "nbformat_minor": 5
}
