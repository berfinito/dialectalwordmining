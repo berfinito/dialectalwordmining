{
 "cells": [
  {
   "cell_type": "markdown",
   "id": "102b3a13",
   "metadata": {},
   "source": [
    "📘 Phase 1: Report Summary Notebook (results_summary.ipynb)\n",
    "This notebook will include:\n",
    "\n",
    "✅ Overview of the pipeline (voice → text → mining → evaluation)\n",
    "\n",
    "✅ Per-language WER and error summary\n",
    "\n",
    "✅ Frequency tables + word cloud highlights\n",
    "\n",
    "✅ Cross-language comparison table\n",
    "\n",
    "✅ Observations (e.g., Turkish token bias in low-resource languages)\n",
    "\n",
    "I’ll prepare a clean template for this next.\n",
    "\n",
    "📘 Phase 2: Knowledge Graph\n",
    "Planned steps:\n",
    "\n",
    "🔄 Normalize all word frequency outputs (GT + Whisper)\n",
    "\n",
    "🧠 Create nodes for unique tokens across languages\n",
    "\n",
    "🔗 Link nodes based on:\n",
    "\n",
    "frequency\n",
    "\n",
    "morphology (shared stems/suffixes)\n",
    "\n",
    "overlap between GT and Whisper\n",
    "\n",
    "📊 Visualize with NetworkX (or optionally D3.js for the web)"
   ]
  },
  {
   "cell_type": "markdown",
   "id": "42094000",
   "metadata": {},
   "source": [
    "# 🧠 Dialectal Word Mining: Final Report Summary\n",
    "\n",
    "This notebook summarizes the results of a voice-to-text and dialectal word mining pipeline applied to Turkish, Kurmancî, and Zazaki. It covers ASR evaluation, word frequency analysis, and cross-language comparison as a baseline for building dialect-aware knowledge graphs.\n"
   ]
  },
  {
   "cell_type": "code",
   "execution_count": 7,
   "id": "70ab508b",
   "metadata": {},
   "outputs": [
    {
     "data": {
      "text/html": [
       "<div>\n",
       "<style scoped>\n",
       "    .dataframe tbody tr th:only-of-type {\n",
       "        vertical-align: middle;\n",
       "    }\n",
       "\n",
       "    .dataframe tbody tr th {\n",
       "        vertical-align: top;\n",
       "    }\n",
       "\n",
       "    .dataframe thead th {\n",
       "        text-align: right;\n",
       "    }\n",
       "</style>\n",
       "<table border=\"1\" class=\"dataframe\">\n",
       "  <thead>\n",
       "    <tr style=\"text-align: right;\">\n",
       "      <th></th>\n",
       "      <th>Language</th>\n",
       "      <th>Whisper WER</th>\n",
       "      <th>Wav2Vec2 WER</th>\n",
       "      <th>Samples (GT)</th>\n",
       "      <th>Unmatched (Whisper)</th>\n",
       "    </tr>\n",
       "  </thead>\n",
       "  <tbody>\n",
       "    <tr>\n",
       "      <th>0</th>\n",
       "      <td>Turkish</td>\n",
       "      <td>0.276</td>\n",
       "      <td>0.419</td>\n",
       "      <td>11352</td>\n",
       "      <td>7743</td>\n",
       "    </tr>\n",
       "    <tr>\n",
       "      <th>1</th>\n",
       "      <td>Kurmanci</td>\n",
       "      <td>1.342</td>\n",
       "      <td>NaN</td>\n",
       "      <td>3970</td>\n",
       "      <td>3967</td>\n",
       "    </tr>\n",
       "    <tr>\n",
       "      <th>2</th>\n",
       "      <td>Zazaki</td>\n",
       "      <td>1.048</td>\n",
       "      <td>NaN</td>\n",
       "      <td>463</td>\n",
       "      <td>461</td>\n",
       "    </tr>\n",
       "  </tbody>\n",
       "</table>\n",
       "</div>"
      ],
      "text/plain": [
       "   Language  Whisper WER  Wav2Vec2 WER  Samples (GT)  Unmatched (Whisper)\n",
       "0   Turkish        0.276         0.419         11352                 7743\n",
       "1  Kurmanci        1.342           NaN          3970                 3967\n",
       "2    Zazaki        1.048           NaN           463                  461"
      ]
     },
     "execution_count": 7,
     "metadata": {},
     "output_type": "execute_result"
    }
   ],
   "source": [
    "import pandas as pd\n",
    "\n",
    "wer_summary = pd.DataFrame({\n",
    "    \"Language\": [\"Turkish\", \"Kurmanci\", \"Zazaki\"],\n",
    "    \"Whisper WER\": [0.276, 1.342, 1.048],\n",
    "    \"Wav2Vec2 WER\": [0.419, None, None],\n",
    "    \"Samples (GT)\": [11352, 3970, 463],\n",
    "    \"Unmatched (Whisper)\": [7743, 3967, 461]\n",
    "})\n",
    "\n",
    "wer_summary\n"
   ]
  },
  {
   "cell_type": "code",
   "execution_count": 8,
   "id": "383826aa",
   "metadata": {},
   "outputs": [
    {
     "data": {
      "image/png": "[encoded data removed]",
      "text/plain": [
       "<Figure size 640x480 with 1 Axes>"
      ]
     },
     "metadata": {},
     "output_type": "display_data"
    }
   ],
   "source": [
    "import matplotlib.pyplot as plt\n",
    "\n",
    "plt.bar(wer_summary[\"Language\"], wer_summary[\"Whisper WER\"], color=\"skyblue\")\n",
    "plt.title(\"Whisper WER by Language\")\n",
    "plt.ylabel(\"WER\")\n",
    "plt.grid(True)\n",
    "plt.show()\n"
   ]
  },
  {
   "cell_type": "code",
   "execution_count": 9,
   "id": "b013e8a6",
   "metadata": {},
   "outputs": [
    {
     "name": "stdout",
     "output_type": "stream",
     "text": [
      "🌍 Turkish\n",
      "GT: bir, bu, ve, ne, de, tr, 2, da, 0, male_masculine\n",
      "Whisper: bir, bu, ve, ne, de, da, çok, daha, için, ben\n",
      "\n",
      "🌍 Kurmanci\n",
      "GT: ji, li, bi, xwe, û, min, ez, e, de, di\n",
      "Whisper: bir, ve, bu, o, da, kere, şey, zaman, daha, de\n",
      "\n",
      "🌍 Zazaki\n",
      "GT: ra, de, xo, ez, ma, to, mı, ke, u, ro\n",
      "Whisper: bu, o, ve, de, ne, bir, ki, ez, da, mi\n",
      "\n"
     ]
    }
   ],
   "source": [
    "from IPython.display import display\n",
    "import os\n",
    "\n",
    "def load_top_words(path, column, n=10):\n",
    "    return pd.read_csv(path)[column].head(n).tolist()\n",
    "\n",
    "langs = [\"Turkish\", \"Kurmanci\", \"Zazaki\"]\n",
    "lang_paths = {\n",
    "    \"Turkish\": \"../outputs/frequencies/turkish/\",\n",
    "    \"Kurmanci\": \"../outputs/frequencies/kurmanci/\",\n",
    "    \"Zazaki\": \"../outputs/frequencies/zazaki/\"\n",
    "}\n",
    "\n",
    "for lang in langs:\n",
    "    print(f\"🌍 {lang}\")\n",
    "    gt = load_top_words(os.path.join(lang_paths[lang], \"gt_word_freq.csv\"), \"word\")\n",
    "    whisper = load_top_words(os.path.join(lang_paths[lang], \"whisper_word_freq.csv\"), \"word\")\n",
    "    print(\"GT:\", \", \".join(gt))\n",
    "    print(\"Whisper:\", \", \".join(whisper))\n",
    "    print()\n"
   ]
  },
  {
   "cell_type": "code",
   "execution_count": 10,
   "id": "701871a9",
   "metadata": {},
   "outputs": [
    {
     "name": "stdout",
     "output_type": "stream",
     "text": [
      "Turkish token overlap: 0.60\n",
      "Kurmanci token overlap: 0.10\n",
      "Zazaki token overlap: 0.20\n"
     ]
    }
   ],
   "source": [
    "def overlap(a, b):\n",
    "    return len(set(a) & set(b)) / len(set(a)) if a else 0\n",
    "\n",
    "for lang in langs:\n",
    "    gt = load_top_words(os.path.join(lang_paths[lang], \"gt_word_freq.csv\"), \"word\")\n",
    "    whisper = load_top_words(os.path.join(lang_paths[lang], \"whisper_word_freq.csv\"), \"word\")\n",
    "    score = overlap(gt, whisper)\n",
    "    print(f\"{lang} token overlap: {score:.2f}\")\n"
   ]
  },
  {
   "cell_type": "markdown",
   "id": "6067fb34",
   "metadata": {},
   "source": [
    "## ✏️ Observations\n",
    "\n",
    "- **Turkish** has low WER and high overlap, suggesting Whisper performs well.\n",
    "- **Kurmancî** and **Zazaki** show much higher WER, and Whisper predictions are dominated by Turkish tokens like \"bir\", \"bu\", \"ve\".\n",
    "- Token overlap drops from 60% (Turkish) to 10–20% in other languages.\n",
    "- This suggests that dialect-specific words are not captured well in zero-shot ASR.\n"
   ]
  }
 ],
 "metadata": {
  "kernelspec": {
   "display_name": "dialect_env",
   "language": "python",
   "name": "python3"
  },
  "language_info": {
   "codemirror_mode": {
    "name": "ipython",
    "version": 3
   },
   "file_extension": ".py",
   "mimetype": "text/x-python",
   "name": "python",
   "nbconvert_exporter": "python",
   "pygments_lexer": "ipython3",
   "version": "3.10.16"
  }
 },
 "nbformat": 4,
 "nbformat_minor": 5
}
