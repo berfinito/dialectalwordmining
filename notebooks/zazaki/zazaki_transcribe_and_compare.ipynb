{
 "cells": [
  {
   "cell_type": "code",
   "execution_count": 2,
   "id": "1f4ca5bf",
   "metadata": {},
   "outputs": [],
   "source": [
    "# ✅ Cell 1: Imports and Setup\n",
    "import os\n",
    "import pandas as pd\n",
    "import torch\n",
    "import torchaudio\n",
    "import matplotlib.pyplot as plt\n",
    "from tqdm import tqdm\n",
    "import re\n",
    "from jiwer import wer\n",
    "from pathlib import Path\n",
    "\n",
    "from transformers import WhisperProcessor, WhisperForConditionalGeneration\n",
    "\n",
    "# Set project root and paths\n",
    "PROJECT_ROOT = Path(__file__).resolve().parents[1] if \"__file__\" in globals() else Path.cwd().parents[1]\n",
    "DATA_DIR = PROJECT_ROOT / \"data\" / \"zazaki\"\n",
    "MODELS_DIR = PROJECT_ROOT / \"models\" / \"whisper-small\"\n",
    "OUTPUTS_DIR = PROJECT_ROOT / \"outputs\" / \"transcriptions\"\n",
    "OUTPUTS_DIR.mkdir(parents=True, exist_ok=True)\n"
   ]
  },
  {
   "cell_type": "code",
   "execution_count": 3,
   "id": "a0526b8b",
   "metadata": {},
   "outputs": [],
   "source": [
    "# ✅ Cell 2: Load Whisper-small\n",
    "whisper_model = WhisperForConditionalGeneration.from_pretrained(\n",
    "    \"openai/whisper-small\", cache_dir=str(MODELS_DIR)\n",
    ").to(\"cuda\")\n",
    "\n",
    "whisper_processor = WhisperProcessor.from_pretrained(\n",
    "    \"openai/whisper-small\", cache_dir=str(MODELS_DIR)\n",
    ")\n"
   ]
  },
  {
   "cell_type": "code",
   "execution_count": 4,
   "id": "0183ea32",
   "metadata": {},
   "outputs": [
    {
     "name": "stdout",
     "output_type": "stream",
     "text": [
      "✅ Loaded 463 Zazaki samples.\n"
     ]
    }
   ],
   "source": [
    "# ✅ Cell 3: Load Zazaki Data\n",
    "tsv_path = DATA_DIR / \"dev.tsv\"\n",
    "audio_folder = DATA_DIR / \"clips\"\n",
    "\n",
    "df = pd.read_csv(tsv_path, sep=\"\\t\")[[\"path\", \"sentence\"]]\n",
    "print(f\"✅ Loaded {len(df)} Zazaki samples.\")\n"
   ]
  },
  {
   "cell_type": "code",
   "execution_count": 5,
   "id": "53e2dcad",
   "metadata": {},
   "outputs": [],
   "source": [
    "# ✅ Cell 4: Transcription Function\n",
    "def transcribe_whisper(filepath):\n",
    "    try:\n",
    "        audio, sr = torchaudio.load(filepath)\n",
    "        audio = torchaudio.functional.resample(audio, sr, 16000)\n",
    "        inputs = whisper_processor(audio.squeeze().numpy(), sampling_rate=16000, return_tensors=\"pt\").input_features.to(\"cuda\")\n",
    "        decoder_ids = whisper_processor.get_decoder_prompt_ids(language=\"tr\", task=\"transcribe\")\n",
    "        predicted_ids = whisper_model.generate(inputs, forced_decoder_ids=decoder_ids)\n",
    "        return whisper_processor.batch_decode(predicted_ids, skip_special_tokens=True)[0].strip()\n",
    "    except Exception as e:\n",
    "        return f\"[ERROR] {str(e)}\"\n"
   ]
  },
  {
   "cell_type": "code",
   "execution_count": 6,
   "id": "908e3cf3",
   "metadata": {},
   "outputs": [
    {
     "name": "stderr",
     "output_type": "stream",
     "text": [
      "  0%|          | 0/463 [00:00<?, ?it/s]The attention mask is not set and cannot be inferred from input because pad token is same as eos token. As a consequence, you may observe unexpected behavior. Please pass your input's `attention_mask` to obtain reliable results.\n",
      "100%|██████████| 463/463 [01:28<00:00,  5.26it/s]"
     ]
    },
    {
     "name": "stdout",
     "output_type": "stream",
     "text": [
      "✅ Transcriptions saved to: c:\\Users\\berfi\\Documents\\GitHub\\dialectalwordmining\\outputs\\transcriptions\n"
     ]
    },
    {
     "name": "stderr",
     "output_type": "stream",
     "text": [
      "\n"
     ]
    }
   ],
   "source": [
    "# ✅ Cell 5: Transcribe All Samples\n",
    "results = []\n",
    "\n",
    "for _, row in tqdm(df.iterrows(), total=len(df)):\n",
    "    clip_path = audio_folder / row[\"path\"]\n",
    "    if not clip_path.exists():\n",
    "        continue\n",
    "\n",
    "    whisper_pred = transcribe_whisper(str(clip_path))\n",
    "    results.append({\n",
    "        \"filename\": row[\"path\"],\n",
    "        \"ground_truth\": row[\"sentence\"],\n",
    "        \"whisper_pred\": whisper_pred\n",
    "    })\n",
    "\n",
    "df_out = pd.DataFrame(results)\n",
    "df_out.to_csv(OUTPUTS_DIR / \"zazaki_transcription_comparison.csv\", index=False)\n",
    "print(\"✅ Transcriptions saved to:\", OUTPUTS_DIR)\n"
   ]
  },
  {
   "cell_type": "code",
   "execution_count": 7,
   "id": "4afa0bae",
   "metadata": {},
   "outputs": [
    {
     "name": "stdout",
     "output_type": "stream",
     "text": [
      "✅ 463 usable transcriptions.\n",
      "📊 Normalized Whisper-small WER: 1.048\n"
     ]
    }
   ],
   "source": [
    "# ✅ Cell 6: Normalize + Compute WER\n",
    "def normalize_text(text):\n",
    "    if not isinstance(text, str):\n",
    "        return \"\"\n",
    "    text = text.lower()\n",
    "    text = re.sub(r\"[^\\w\\sçğıöşüêîûâêîôû]\", \"\", text)\n",
    "    text = re.sub(r\"\\s+\", \" \", text)\n",
    "    return text.strip()\n",
    "\n",
    "df_out_clean = df_out[~df_out[\"whisper_pred\"].str.startswith(\"[ERROR]\")].copy()\n",
    "df_out_clean[\"gt_norm\"] = df_out_clean[\"ground_truth\"].apply(normalize_text)\n",
    "df_out_clean[\"whisper_norm\"] = df_out_clean[\"whisper_pred\"].apply(normalize_text)\n",
    "\n",
    "df_out_clean = df_out_clean[\n",
    "    (df_out_clean[\"gt_norm\"].str.len() > 0) &\n",
    "    (df_out_clean[\"whisper_norm\"].str.len() > 0)\n",
    "]\n",
    "\n",
    "print(f\"✅ {len(df_out_clean)} usable transcriptions.\")\n",
    "whisper_wer = wer(df_out_clean[\"gt_norm\"].tolist(), df_out_clean[\"whisper_norm\"].tolist())\n",
    "print(f\"📊 Normalized Whisper-small WER: {whisper_wer:.3f}\")\n"
   ]
  },
  {
   "cell_type": "code",
   "execution_count": 8,
   "id": "ae9a8a0c",
   "metadata": {},
   "outputs": [
    {
     "name": "stdout",
     "output_type": "stream",
     "text": [
      "🔍 Saved 461 unmatched Whisper records.\n"
     ]
    }
   ],
   "source": [
    "# ✅ Cell 7: Save Line WER + Unmatched\n",
    "df_out_clean[\"whisper_line_wer\"] = df_out_clean.apply(\n",
    "    lambda row: wer(row[\"gt_norm\"], row[\"whisper_norm\"]), axis=1\n",
    ")\n",
    "\n",
    "df_unmatched = df_out_clean[\n",
    "    df_out_clean[\"gt_norm\"] != df_out_clean[\"whisper_norm\"]\n",
    "]\n",
    "\n",
    "df_unmatched.to_csv(OUTPUTS_DIR / \"unmatched_records_zazaki.csv\", index=False)\n",
    "print(f\"🔍 Saved {len(df_unmatched)} unmatched Whisper records.\")\n"
   ]
  },
  {
   "cell_type": "code",
   "execution_count": 9,
   "id": "47718902",
   "metadata": {},
   "outputs": [
    {
     "data": {
      "image/png": "[encoded data removed]",
      "text/plain": [
       "<Figure size 1000x500 with 1 Axes>"
      ]
     },
     "metadata": {},
     "output_type": "display_data"
    }
   ],
   "source": [
    "# ✅ Cell 8: Histogram\n",
    "plt.figure(figsize=(10, 5))\n",
    "plt.hist(df_out_clean[\"whisper_line_wer\"], bins=50, alpha=0.7, label=\"Whisper-small\")\n",
    "plt.xlabel(\"Line-level WER (Normalized)\")\n",
    "plt.ylabel(\"Number of Samples\")\n",
    "plt.title(\"Zazaki - Whisper WER Distribution\")\n",
    "plt.legend()\n",
    "plt.grid(True)\n",
    "plt.tight_layout()\n",
    "plt.show()\n"
   ]
  }
 ],
 "metadata": {
  "kernelspec": {
   "display_name": "dialect_env",
   "language": "python",
   "name": "python3"
  },
  "language_info": {
   "codemirror_mode": {
    "name": "ipython",
    "version": 3
   },
   "file_extension": ".py",
   "mimetype": "text/x-python",
   "name": "python",
   "nbconvert_exporter": "python",
   "pygments_lexer": "ipython3",
   "version": "3.10.16"
  }
 },
 "nbformat": 4,
 "nbformat_minor": 5
}
