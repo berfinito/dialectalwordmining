{
 "cells": [
  {
   "cell_type": "code",
   "execution_count": 9,
   "id": "b938e56d",
   "metadata": {},
   "outputs": [],
   "source": [
    "# ✅ Cell 1: Imports & Path Setup\n",
    "import os\n",
    "import re\n",
    "import pandas as pd\n",
    "import torch\n",
    "import torchaudio\n",
    "from tqdm import tqdm\n",
    "import matplotlib.pyplot as plt\n",
    "from jiwer import wer\n",
    "from pathlib import Path\n",
    "\n",
    "from transformers import (\n",
    "    WhisperProcessor, WhisperForConditionalGeneration,\n",
    "    Wav2Vec2Processor, Wav2Vec2ForCTC\n",
    ")\n",
    "\n",
    "# Set project root\n",
    "PROJECT_ROOT = Path(__file__).resolve().parents[1] if \"__file__\" in globals() else Path.cwd().parents[1]\n",
    "MODELS_DIR = PROJECT_ROOT / \"models\"\n",
    "DATA_DIR = PROJECT_ROOT / \"data\" / \"kurmanci\"\n",
    "OUTPUTS_DIR = PROJECT_ROOT / \"outputs\" / \"transcriptions\"\n",
    "OUTPUTS_DIR.mkdir(parents=True, exist_ok=True)\n"
   ]
  },
  {
   "cell_type": "code",
   "execution_count": 10,
   "id": "a0e8349c",
   "metadata": {},
   "outputs": [],
   "source": [
    "# Whisper-small\n",
    "whisper_model = WhisperForConditionalGeneration.from_pretrained(\n",
    "    \"openai/whisper-small\", cache_dir=str(MODELS_DIR / \"whisper-small\")\n",
    ").to(\"cuda\")\n",
    "\n",
    "whisper_processor = WhisperProcessor.from_pretrained(\n",
    "    \"openai/whisper-small\", cache_dir=str(MODELS_DIR / \"whisper-small\")\n",
    ")\n",
    "\n",
    "# Fine-tuned Kurmanci Wav2Vec2 model\n",
    "w2v2_model = Wav2Vec2ForCTC.from_pretrained(\n",
    "    MODELS_DIR / \"wav2vec2-kurmanci-final\", local_files_only=True\n",
    ").to(\"cuda\")\n",
    "\n",
    "w2v2_processor = Wav2Vec2Processor.from_pretrained(\n",
    "    MODELS_DIR / \"wav2vec2-kurmanci-final\", local_files_only=True\n",
    ")\n"
   ]
  },
  {
   "cell_type": "code",
   "execution_count": 11,
   "id": "64121305",
   "metadata": {},
   "outputs": [
    {
     "name": "stdout",
     "output_type": "stream",
     "text": [
      "✅ Loaded 3973 Kurmanci samples.\n"
     ]
    }
   ],
   "source": [
    "tsv_path = DATA_DIR / \"dev.tsv\"\n",
    "audio_folder = DATA_DIR / \"clips\"\n",
    "\n",
    "df = pd.read_csv(tsv_path, sep=\"\\t\")[[\"path\", \"sentence\"]]\n",
    "print(f\"✅ Loaded {len(df)} Kurmanci samples.\")\n"
   ]
  },
  {
   "cell_type": "code",
   "execution_count": 12,
   "id": "9580f5eb",
   "metadata": {},
   "outputs": [],
   "source": [
    "# ✅ Cell 4: Transcription Functions\n",
    "def transcribe_whisper(filepath):\n",
    "    try:\n",
    "        audio, sr = torchaudio.load(filepath)\n",
    "        audio = torchaudio.functional.resample(audio, sr, 16000)\n",
    "        inputs = whisper_processor(audio.squeeze().numpy(), sampling_rate=16000, return_tensors=\"pt\").input_features.to(\"cuda\")\n",
    "        forced_ids = whisper_processor.get_decoder_prompt_ids(language=\"tr\", task=\"transcribe\")\n",
    "        predicted_ids = whisper_model.generate(inputs, forced_decoder_ids=forced_ids)\n",
    "        return whisper_processor.batch_decode(predicted_ids, skip_special_tokens=True)[0].strip()\n",
    "    except Exception as e:\n",
    "        return f\"[ERROR] {str(e)}\"\n",
    "\n",
    "def transcribe_wav2vec2(filepath):\n",
    "    try:\n",
    "        speech, _ = torchaudio.load(filepath)\n",
    "        speech = torchaudio.functional.resample(speech, _, 16000).squeeze().numpy()\n",
    "        inputs = w2v2_processor(speech, sampling_rate=16000, return_tensors=\"pt\", padding=True)\n",
    "        with torch.no_grad():\n",
    "            logits = w2v2_model(**inputs.to(\"cuda\")).logits\n",
    "        pred_ids = torch.argmax(logits, dim=-1)\n",
    "        return w2v2_processor.batch_decode(pred_ids)[0].strip().lower()\n",
    "    except Exception as e:\n",
    "        return f\"[ERROR] {str(e)}\"\n"
   ]
  },
  {
   "cell_type": "code",
   "execution_count": 13,
   "id": "011c681c",
   "metadata": {},
   "outputs": [
    {
     "name": "stderr",
     "output_type": "stream",
     "text": [
      "100%|██████████| 3973/3973 [17:02<00:00,  3.89it/s]  "
     ]
    },
    {
     "name": "stdout",
     "output_type": "stream",
     "text": [
      "✅ Transcriptions saved to: c:\\Users\\berfi\\Documents\\GitHub\\dialectalwordmining\\outputs\\transcriptions\n"
     ]
    },
    {
     "name": "stderr",
     "output_type": "stream",
     "text": [
      "\n"
     ]
    }
   ],
   "source": [
    "results = []\n",
    "\n",
    "for _, row in tqdm(df.iterrows(), total=len(df)):\n",
    "    clip_path = audio_folder / row[\"path\"]\n",
    "    if not clip_path.exists():\n",
    "        continue\n",
    "\n",
    "    results.append({\n",
    "        \"filename\": row[\"path\"],\n",
    "        \"ground_truth\": row[\"sentence\"],\n",
    "        \"whisper_pred\": transcribe_whisper(str(clip_path)),\n",
    "        \"w2v2_pred\": transcribe_wav2vec2(str(clip_path))\n",
    "    })\n",
    "\n",
    "df_out = pd.DataFrame(results)\n",
    "df_out.to_csv(OUTPUTS_DIR / \"kurmanci_transcription_comparison.csv\", index=False)\n",
    "print(\"✅ Transcriptions saved to:\", OUTPUTS_DIR)\n"
   ]
  },
  {
   "cell_type": "code",
   "execution_count": 17,
   "id": "44c4c50e",
   "metadata": {},
   "outputs": [
    {
     "name": "stdout",
     "output_type": "stream",
     "text": [
      "✅ 3969 clean samples.\n",
      "📊 Whisper-small WER: 1.342\n",
      "📊 Fine-tuned Wav2Vec2 WER: 1.000\n"
     ]
    }
   ],
   "source": [
    "# ✅ Cell 6: Normalize and Compute WER\n",
    "def normalize_text(text):\n",
    "    text = text.lower()\n",
    "    text = re.sub(r\"[^\\w\\sçğıöşüêîû]\", \"\", text)\n",
    "    text = re.sub(r\"\\s+\", \" \", text)\n",
    "    return text.strip()\n",
    "\n",
    "df_clean = df_out[\n",
    "    ~df_out[\"whisper_pred\"].str.startswith(\"[ERROR]\") &\n",
    "    ~df_out[\"w2v2_pred\"].str.startswith(\"[ERROR]\")\n",
    "].copy()\n",
    "\n",
    "df_clean[\"gt_norm\"] = df_clean[\"ground_truth\"].apply(normalize_text)\n",
    "df_clean[\"whisper_norm\"] = df_clean[\"whisper_pred\"].apply(normalize_text)\n",
    "df_clean[\"w2v2_norm\"] = df_clean[\"w2v2_pred\"].apply(normalize_text)\n",
    "\n",
    "# Remove empty\n",
    "df_clean = df_clean[\n",
    "    (df_clean[\"gt_norm\"].str.len() > 0) &\n",
    "    (df_clean[\"whisper_norm\"].str.len() > 0) &\n",
    "    (df_clean[\"w2v2_norm\"].str.len() > 0)\n",
    "]\n",
    "\n",
    "print(f\"✅ {len(df_clean)} clean samples.\")\n",
    "\n",
    "# Total WERs\n",
    "gt_list = df_clean[\"gt_norm\"].tolist()\n",
    "whisper_list = df_clean[\"whisper_norm\"].tolist()\n",
    "w2v2_list = df_clean[\"w2v2_norm\"].tolist()\n",
    "\n",
    "print(f\"📊 Whisper-small WER: {wer(gt_list, whisper_list):.3f}\")\n",
    "print(f\"📊 Fine-tuned Wav2Vec2 WER: {wer(gt_list, w2v2_list):.3f}\")\n",
    "\n"
   ]
  },
  {
   "cell_type": "code",
   "execution_count": 18,
   "id": "08c86174",
   "metadata": {},
   "outputs": [
    {
     "name": "stdout",
     "output_type": "stream",
     "text": [
      "🔍 Saved 3969 unmatched records.\n",
      "\n",
      "[DEBUG] Whisper WER stats:\n",
      "count    3969.000000\n",
      "mean        1.262856\n",
      "std         3.199333\n",
      "min         0.000000\n",
      "25%         1.000000\n",
      "50%         1.000000\n",
      "75%         1.000000\n",
      "max       110.500000\n",
      "Name: whisper_line_wer, dtype: float64\n",
      "\n",
      "[DEBUG] Wav2Vec2 WER stats:\n",
      "count    3969.000000\n",
      "mean        1.000819\n",
      "std         0.025673\n",
      "min         1.000000\n",
      "25%         1.000000\n",
      "50%         1.000000\n",
      "75%         1.000000\n",
      "max         2.000000\n",
      "Name: w2v2_line_wer, dtype: float64\n"
     ]
    }
   ],
   "source": [
    "# ✅ Cell 7: Save Line-Level Errors\n",
    "# Whisper line-level WER\n",
    "df_clean[\"whisper_line_wer\"] = df_clean.apply(\n",
    "    lambda r: wer(r[\"gt_norm\"], r[\"whisper_norm\"]), axis=1\n",
    ")\n",
    "# Wav2Vec2-finetuned line-level WER\n",
    "df_clean[\"w2v2_line_wer\"] = df_clean.apply(\n",
    "    lambda r: wer(r[\"gt_norm\"], r[\"w2v2_norm\"]), axis=1\n",
    ")\n",
    "\n",
    "# Save unmatched records\n",
    "df_unmatched = df_clean[\n",
    "    (df_clean[\"gt_norm\"] != df_clean[\"whisper_norm\"]) |\n",
    "    (df_clean[\"gt_norm\"] != df_clean[\"w2v2_norm\"])\n",
    "]\n",
    "df_unmatched.to_csv(OUTPUTS_DIR / \"unmatched_records_kurmanci.csv\", index=False)\n",
    "print(f\"🔍 Saved {len(df_unmatched)} unmatched records.\")\n",
    "\n",
    "# Check for missing values in WERs\n",
    "print(\"\\n[DEBUG] Whisper WER stats:\")\n",
    "print(df_clean[\"whisper_line_wer\"].describe())\n",
    "\n",
    "print(\"\\n[DEBUG] Wav2Vec2 WER stats:\")\n",
    "print(df_clean[\"w2v2_line_wer\"].describe())"
   ]
  },
  {
   "cell_type": "code",
   "execution_count": 19,
   "id": "240eaf27",
   "metadata": {},
   "outputs": [
    {
     "data": {
      "image/png": "[encoded data removed]",
      "text/plain": [
       "<Figure size 1000x500 with 1 Axes>"
      ]
     },
     "metadata": {},
     "output_type": "display_data"
    }
   ],
   "source": [
    "# ✅ Cell 8: Plot WER Histograms\n",
    "# ✅ Only keep rows where both WERs are valid\n",
    "df_plot = df_clean.dropna(subset=[\"whisper_line_wer\", \"w2v2_line_wer\"])\n",
    "\n",
    "plt.figure(figsize=(10, 5))\n",
    "plt.hist(df_plot[\"whisper_line_wer\"], bins=50, alpha=0.5, label=\"Whisper-small\")\n",
    "plt.hist(df_plot[\"w2v2_line_wer\"], bins=50, alpha=0.5, label=\"Wav2Vec2-finetuned\")\n",
    "plt.xlabel(\"Line-level WER (Normalized)\")\n",
    "plt.ylabel(\"Number of Samples\")\n",
    "plt.title(\"Kurmanci – WER Distribution\")\n",
    "plt.legend()\n",
    "plt.grid(True)\n",
    "plt.tight_layout()\n",
    "plt.show()\n",
    "\n",
    "\n"
   ]
  }
 ],
 "metadata": {
  "kernelspec": {
   "display_name": "dialect_env",
   "language": "python",
   "name": "python3"
  },
  "language_info": {
   "codemirror_mode": {
    "name": "ipython",
    "version": 3
   },
   "file_extension": ".py",
   "mimetype": "text/x-python",
   "name": "python",
   "nbconvert_exporter": "python",
   "pygments_lexer": "ipython3",
   "version": "3.10.16"
  }
 },
 "nbformat": 4,
 "nbformat_minor": 5
}
