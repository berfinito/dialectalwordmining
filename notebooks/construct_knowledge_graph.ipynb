{
 "cells": [
  {
   "cell_type": "code",
   "execution_count": 16,
   "id": "7d89b035",
   "metadata": {},
   "outputs": [],
   "source": [
    "# ✅ Cell 1: Imports\n",
    "from pathlib import Path\n",
    "import pandas as pd\n",
    "import networkx as nx\n"
   ]
  },
  {
   "cell_type": "code",
   "execution_count": 17,
   "id": "12f34acc",
   "metadata": {},
   "outputs": [
    {
     "name": "stderr",
     "output_type": "stream",
     "text": [
      "C:\\Users\\berfi\\AppData\\Local\\Temp\\ipykernel_14716\\1991018583.py:14: FutureWarning: Series.__getitem__ treating keys as positions is deprecated. In a future version, integer keys will always be treated as labels (consistent with DataFrame behavior). To access a value by position, use `ser.iloc[pos]`\n",
      "  word = row[0]\n",
      "C:\\Users\\berfi\\AppData\\Local\\Temp\\ipykernel_14716\\1991018583.py:15: FutureWarning: Series.__getitem__ treating keys as positions is deprecated. In a future version, integer keys will always be treated as labels (consistent with DataFrame behavior). To access a value by position, use `ser.iloc[pos]`\n",
      "  freq = int(row[\"gt_freq\"]) if \"gt_freq\" in row else row[1]\n",
      "C:\\Users\\berfi\\AppData\\Local\\Temp\\ipykernel_14716\\1991018583.py:14: FutureWarning: Series.__getitem__ treating keys as positions is deprecated. In a future version, integer keys will always be treated as labels (consistent with DataFrame behavior). To access a value by position, use `ser.iloc[pos]`\n",
      "  word = row[0]\n",
      "C:\\Users\\berfi\\AppData\\Local\\Temp\\ipykernel_14716\\1991018583.py:15: FutureWarning: Series.__getitem__ treating keys as positions is deprecated. In a future version, integer keys will always be treated as labels (consistent with DataFrame behavior). To access a value by position, use `ser.iloc[pos]`\n",
      "  freq = int(row[\"gt_freq\"]) if \"gt_freq\" in row else row[1]\n",
      "C:\\Users\\berfi\\AppData\\Local\\Temp\\ipykernel_14716\\1991018583.py:14: FutureWarning: Series.__getitem__ treating keys as positions is deprecated. In a future version, integer keys will always be treated as labels (consistent with DataFrame behavior). To access a value by position, use `ser.iloc[pos]`\n",
      "  word = row[0]\n"
     ]
    }
   ],
   "source": [
    "# ✅ Cell 2: Load frequency data and initialize graph\n",
    "langs = [\"kurmanci\", \"zazaki\", \"turkish\"]\n",
    "\n",
    "PROJECT_ROOT = Path.cwd().parents[0]\n",
    "FREQ_DIR = PROJECT_ROOT / \"outputs\" / \"frequencies\"\n",
    "\n",
    "graph = nx.Graph()\n",
    "\n",
    "for lang in langs:\n",
    "    freq_path = FREQ_DIR / lang / \"gt_word_freq.csv\"\n",
    "    if freq_path.exists():\n",
    "        df_freq = pd.read_csv(freq_path).dropna()\n",
    "        for _, row in df_freq.iterrows():\n",
    "            word = row[0]\n",
    "            freq = int(row[\"gt_freq\"]) if \"gt_freq\" in row else row[1]\n",
    "            graph.add_node(word, label=\"Word\", language=lang, frequency=freq)\n",
    "            graph.add_node(lang, label=\"Language\")\n",
    "            graph.add_edge(word, lang, type=\"spoken_in\")\n",
    "    else:\n",
    "        print(f\"⚠️ Missing file: {freq_path}\")\n"
   ]
  },
  {
   "cell_type": "code",
   "execution_count": 18,
   "id": "2efb1835",
   "metadata": {},
   "outputs": [],
   "source": [
    "# ✅ Cell 3: Load co-occurrence graphs\n",
    "COOCCURRENCE_DIR = PROJECT_ROOT / \"outputs\" / \"visualizations\"\n",
    "\n",
    "for lang in langs:\n",
    "    gexf_path = COOCCURRENCE_DIR / f\"{lang}_gt_word_cooccurrence.gexf\"\n",
    "    if gexf_path.exists():\n",
    "        subgraph = nx.read_gexf(gexf_path)\n",
    "        for u, v, d in subgraph.edges(data=True):\n",
    "            graph.add_edge(u, v, type=\"related_to\", weight=d.get(\"weight\", 1))\n",
    "    else:\n",
    "        print(f\"⚠️ Missing co-occurrence file: {gexf_path}\")"
   ]
  },
  {
   "cell_type": "code",
   "execution_count": 19,
   "id": "d8152974",
   "metadata": {},
   "outputs": [
    {
     "name": "stdout",
     "output_type": "stream",
     "text": [
      "✅ Knowledge graph saved to: c:\\Users\\berfi\\Documents\\GitHub\\dialectalwordmining\\outputs\\knowledge_graph\\dialectal_word_graph.gexf\n",
      "🔢 Nodes: 24807, Edges: 106561\n"
     ]
    }
   ],
   "source": [
    "# ✅ Cell 4: Save Knowledge Graph\n",
    "OUTPUT_DIR = PROJECT_ROOT / \"outputs\" / \"knowledge_graph\"\n",
    "OUTPUT_DIR.mkdir(parents=True, exist_ok=True)\n",
    "\n",
    "output_path = OUTPUT_DIR / \"dialectal_word_graph.gexf\"\n",
    "nx.write_gexf(graph, output_path)\n",
    "\n",
    "print(f\"✅ Knowledge graph saved to: {output_path}\")\n",
    "print(f\"🔢 Nodes: {len(graph.nodes)}, Edges: {len(graph.edges)}\")"
   ]
  }
 ],
 "metadata": {
  "kernelspec": {
   "display_name": "dialect_env",
   "language": "python",
   "name": "python3"
  },
  "language_info": {
   "codemirror_mode": {
    "name": "ipython",
    "version": 3
   },
   "file_extension": ".py",
   "mimetype": "text/x-python",
   "name": "python",
   "nbconvert_exporter": "python",
   "pygments_lexer": "ipython3",
   "version": "3.10.16"
  }
 },
 "nbformat": 4,
 "nbformat_minor": 5
}
